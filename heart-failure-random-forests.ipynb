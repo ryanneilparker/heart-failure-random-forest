{
 "cells": [
  {
   "cell_type": "code",
   "execution_count": 1,
   "id": "ecological-presence",
   "metadata": {
    "_cell_guid": "b1076dfc-b9ad-4769-8c92-a6c4dae69d19",
    "_uuid": "8f2839f25d086af736a60e9eeb907d3b93b6e0e5",
    "execution": {
     "iopub.execute_input": "2022-09-30T11:52:03.823779Z",
     "iopub.status.busy": "2022-09-30T11:52:03.822555Z",
     "iopub.status.idle": "2022-09-30T11:52:03.839797Z",
     "shell.execute_reply": "2022-09-30T11:52:03.840569Z"
    },
    "papermill": {
     "duration": 0.028708,
     "end_time": "2022-09-30T11:52:03.840975",
     "exception": false,
     "start_time": "2022-09-30T11:52:03.812267",
     "status": "completed"
    },
    "tags": []
   },
   "outputs": [
    {
     "name": "stdout",
     "output_type": "stream",
     "text": [
      "/kaggle/input/heart-failure-clinical-data/heart_failure_clinical_records_dataset.csv\n"
     ]
    }
   ],
   "source": [
    "# This Python 3 environment comes with many helpful analytics libraries installed\n",
    "# It is defined by the kaggle/python Docker image: https://github.com/kaggle/docker-python\n",
    "# For example, here's several helpful packages to load\n",
    "\n",
    "import numpy as np # linear algebra\n",
    "import pandas as pd # data processing, CSV file I/O (e.g. pd.read_csv)\n",
    "\n",
    "# Input data files are available in the read-only \"../input/\" directory\n",
    "# For example, running this (by clicking run or pressing Shift+Enter) will list all files under the input directory\n",
    "\n",
    "import os\n",
    "for dirname, _, filenames in os.walk('/kaggle/input'):\n",
    "    for filename in filenames:\n",
    "        print(os.path.join(dirname, filename))\n",
    "\n",
    "# You can write up to 20GB to the current directory (/kaggle/working/) that gets preserved as output when you create a version using \"Save & Run All\" \n",
    "# You can also write temporary files to /kaggle/temp/, but they won't be saved outside of the current session"
   ]
  },
  {
   "cell_type": "markdown",
   "id": "shared-participant",
   "metadata": {
    "papermill": {
     "duration": 0.005669,
     "end_time": "2022-09-30T11:52:03.853942",
     "exception": false,
     "start_time": "2022-09-30T11:52:03.848273",
     "status": "completed"
    },
    "tags": []
   },
   "source": [
    "In this notebook I will compare the relative accuracy of a tuned decision tree versus an un-tuned random forest in predicting heart failure based off of some features from the data set."
   ]
  },
  {
   "cell_type": "code",
   "execution_count": 2,
   "id": "missing-conviction",
   "metadata": {
    "execution": {
     "iopub.execute_input": "2022-09-30T11:52:03.869553Z",
     "iopub.status.busy": "2022-09-30T11:52:03.868617Z",
     "iopub.status.idle": "2022-09-30T11:52:03.911095Z",
     "shell.execute_reply": "2022-09-30T11:52:03.910444Z"
    },
    "papermill": {
     "duration": 0.051245,
     "end_time": "2022-09-30T11:52:03.911245",
     "exception": false,
     "start_time": "2022-09-30T11:52:03.860000",
     "status": "completed"
    },
    "tags": []
   },
   "outputs": [
    {
     "data": {
      "text/html": [
       "<div>\n",
       "<style scoped>\n",
       "    .dataframe tbody tr th:only-of-type {\n",
       "        vertical-align: middle;\n",
       "    }\n",
       "\n",
       "    .dataframe tbody tr th {\n",
       "        vertical-align: top;\n",
       "    }\n",
       "\n",
       "    .dataframe thead th {\n",
       "        text-align: right;\n",
       "    }\n",
       "</style>\n",
       "<table border=\"1\" class=\"dataframe\">\n",
       "  <thead>\n",
       "    <tr style=\"text-align: right;\">\n",
       "      <th></th>\n",
       "      <th>age</th>\n",
       "      <th>anaemia</th>\n",
       "      <th>creatinine_phosphokinase</th>\n",
       "      <th>diabetes</th>\n",
       "      <th>ejection_fraction</th>\n",
       "      <th>high_blood_pressure</th>\n",
       "      <th>platelets</th>\n",
       "      <th>serum_creatinine</th>\n",
       "      <th>serum_sodium</th>\n",
       "      <th>sex</th>\n",
       "      <th>smoking</th>\n",
       "      <th>time</th>\n",
       "      <th>DEATH_EVENT</th>\n",
       "    </tr>\n",
       "  </thead>\n",
       "  <tbody>\n",
       "    <tr>\n",
       "      <th>0</th>\n",
       "      <td>75.0</td>\n",
       "      <td>0</td>\n",
       "      <td>582</td>\n",
       "      <td>0</td>\n",
       "      <td>20</td>\n",
       "      <td>1</td>\n",
       "      <td>265000.00</td>\n",
       "      <td>1.9</td>\n",
       "      <td>130</td>\n",
       "      <td>1</td>\n",
       "      <td>0</td>\n",
       "      <td>4</td>\n",
       "      <td>1</td>\n",
       "    </tr>\n",
       "    <tr>\n",
       "      <th>1</th>\n",
       "      <td>55.0</td>\n",
       "      <td>0</td>\n",
       "      <td>7861</td>\n",
       "      <td>0</td>\n",
       "      <td>38</td>\n",
       "      <td>0</td>\n",
       "      <td>263358.03</td>\n",
       "      <td>1.1</td>\n",
       "      <td>136</td>\n",
       "      <td>1</td>\n",
       "      <td>0</td>\n",
       "      <td>6</td>\n",
       "      <td>1</td>\n",
       "    </tr>\n",
       "    <tr>\n",
       "      <th>2</th>\n",
       "      <td>65.0</td>\n",
       "      <td>0</td>\n",
       "      <td>146</td>\n",
       "      <td>0</td>\n",
       "      <td>20</td>\n",
       "      <td>0</td>\n",
       "      <td>162000.00</td>\n",
       "      <td>1.3</td>\n",
       "      <td>129</td>\n",
       "      <td>1</td>\n",
       "      <td>1</td>\n",
       "      <td>7</td>\n",
       "      <td>1</td>\n",
       "    </tr>\n",
       "    <tr>\n",
       "      <th>3</th>\n",
       "      <td>50.0</td>\n",
       "      <td>1</td>\n",
       "      <td>111</td>\n",
       "      <td>0</td>\n",
       "      <td>20</td>\n",
       "      <td>0</td>\n",
       "      <td>210000.00</td>\n",
       "      <td>1.9</td>\n",
       "      <td>137</td>\n",
       "      <td>1</td>\n",
       "      <td>0</td>\n",
       "      <td>7</td>\n",
       "      <td>1</td>\n",
       "    </tr>\n",
       "    <tr>\n",
       "      <th>4</th>\n",
       "      <td>65.0</td>\n",
       "      <td>1</td>\n",
       "      <td>160</td>\n",
       "      <td>1</td>\n",
       "      <td>20</td>\n",
       "      <td>0</td>\n",
       "      <td>327000.00</td>\n",
       "      <td>2.7</td>\n",
       "      <td>116</td>\n",
       "      <td>0</td>\n",
       "      <td>0</td>\n",
       "      <td>8</td>\n",
       "      <td>1</td>\n",
       "    </tr>\n",
       "  </tbody>\n",
       "</table>\n",
       "</div>"
      ],
      "text/plain": [
       "    age  anaemia  creatinine_phosphokinase  diabetes  ejection_fraction  \\\n",
       "0  75.0        0                       582         0                 20   \n",
       "1  55.0        0                      7861         0                 38   \n",
       "2  65.0        0                       146         0                 20   \n",
       "3  50.0        1                       111         0                 20   \n",
       "4  65.0        1                       160         1                 20   \n",
       "\n",
       "   high_blood_pressure  platelets  serum_creatinine  serum_sodium  sex  \\\n",
       "0                    1  265000.00               1.9           130    1   \n",
       "1                    0  263358.03               1.1           136    1   \n",
       "2                    0  162000.00               1.3           129    1   \n",
       "3                    0  210000.00               1.9           137    1   \n",
       "4                    0  327000.00               2.7           116    0   \n",
       "\n",
       "   smoking  time  DEATH_EVENT  \n",
       "0        0     4            1  \n",
       "1        0     6            1  \n",
       "2        1     7            1  \n",
       "3        0     7            1  \n",
       "4        0     8            1  "
      ]
     },
     "execution_count": 2,
     "metadata": {},
     "output_type": "execute_result"
    }
   ],
   "source": [
    "# Import data\n",
    "heart_data = pd.read_csv(\"/kaggle/input/heart-failure-clinical-data/heart_failure_clinical_records_dataset.csv\")\n",
    "\n",
    "# Inspect data\n",
    "heart_data.head()"
   ]
  },
  {
   "cell_type": "markdown",
   "id": "original-revelation",
   "metadata": {
    "papermill": {
     "duration": 0.006164,
     "end_time": "2022-09-30T11:52:03.923982",
     "exception": false,
     "start_time": "2022-09-30T11:52:03.917818",
     "status": "completed"
    },
    "tags": []
   },
   "source": [
    "Of the available features I intuitively choose some that make sense to me and define them as my feature selection."
   ]
  },
  {
   "cell_type": "code",
   "execution_count": 3,
   "id": "bizarre-wedding",
   "metadata": {
    "execution": {
     "iopub.execute_input": "2022-09-30T11:52:03.944252Z",
     "iopub.status.busy": "2022-09-30T11:52:03.943567Z",
     "iopub.status.idle": "2022-09-30T11:52:05.113770Z",
     "shell.execute_reply": "2022-09-30T11:52:05.113099Z"
    },
    "papermill": {
     "duration": 1.183512,
     "end_time": "2022-09-30T11:52:05.113926",
     "exception": false,
     "start_time": "2022-09-30T11:52:03.930414",
     "status": "completed"
    },
    "tags": []
   },
   "outputs": [],
   "source": [
    "# Select target object and call it y\n",
    "y = heart_data.DEATH_EVENT\n",
    "\n",
    "# Select features and call them X\n",
    "features = [\"age\", \"diabetes\", \"high_blood_pressure\", \"sex\", \"smoking\"]\n",
    "X = heart_data[features]\n",
    "\n",
    "# Import ML tools\n",
    "from sklearn.tree import DecisionTreeRegressor as dtree\n",
    "from sklearn.ensemble import RandomForestRegressor as rforest\n",
    "from sklearn.metrics import mean_absolute_error as MAE\n",
    "from sklearn.model_selection import train_test_split\n",
    "\n",
    "# Split the data intro training and testing sets\n",
    "X_train, X_test, y_train, y_test = train_test_split(X, y, random_state = 1)"
   ]
  },
  {
   "cell_type": "code",
   "execution_count": 4,
   "id": "published-russia",
   "metadata": {
    "execution": {
     "iopub.execute_input": "2022-09-30T11:52:05.136921Z",
     "iopub.status.busy": "2022-09-30T11:52:05.135900Z",
     "iopub.status.idle": "2022-09-30T11:52:05.149595Z",
     "shell.execute_reply": "2022-09-30T11:52:05.150239Z"
    },
    "papermill": {
     "duration": 0.02785,
     "end_time": "2022-09-30T11:52:05.150468",
     "exception": false,
     "start_time": "2022-09-30T11:52:05.122618",
     "status": "completed"
    },
    "tags": []
   },
   "outputs": [
    {
     "name": "stdout",
     "output_type": "stream",
     "text": [
      "MAE of untuned decision tree: 0.38288888888888883\n"
     ]
    }
   ],
   "source": [
    "# Specify decision tree model\n",
    "tree = dtree(random_state = 1)\n",
    "\n",
    "# Fit decision tree\n",
    "tree.fit(X_train, y_train)\n",
    "\n",
    "# Make predictions on test set\n",
    "prediction = tree.predict(X_test)\n",
    "\n",
    "# Calculate mean absolute error\n",
    "test_mae = MAE(prediction, y_test)\n",
    "print(\"MAE of untuned decision tree: {}\".format(test_mae))"
   ]
  },
  {
   "cell_type": "code",
   "execution_count": 5,
   "id": "bronze-civilian",
   "metadata": {
    "execution": {
     "iopub.execute_input": "2022-09-30T11:52:05.169442Z",
     "iopub.status.busy": "2022-09-30T11:52:05.168522Z",
     "iopub.status.idle": "2022-09-30T11:52:05.214996Z",
     "shell.execute_reply": "2022-09-30T11:52:05.215676Z"
    },
    "papermill": {
     "duration": 0.05732,
     "end_time": "2022-09-30T11:52:05.215913",
     "exception": false,
     "start_time": "2022-09-30T11:52:05.158593",
     "status": "completed"
    },
    "tags": []
   },
   "outputs": [
    {
     "name": "stdout",
     "output_type": "stream",
     "text": [
      "Nodes: 50, MAE: 0.3985837742504409\n",
      "Nodes: 100, MAE: 0.3784444444444444\n",
      "Nodes: 200, MAE: 0.3784444444444444\n",
      "Nodes: 500, MAE: 0.3784444444444444\n",
      "Nodes: 1000, MAE: 0.3784444444444444\n",
      "Nodes: 2000, MAE: 0.3784444444444444\n",
      "Nodes: 5000, MAE: 0.3784444444444444\n",
      "Nodes: 10000, MAE: 0.3784444444444444\n"
     ]
    }
   ],
   "source": [
    "# Tune model\n",
    "for nodes in [50, 100, 200, 500, 1000, 2000, 5000, 10000]:\n",
    "    tree = dtree(max_leaf_nodes = nodes, random_state = 1)\n",
    "    tree.fit(X_train, y_train)\n",
    "    mae = MAE(tree.predict(X_test), y_test)\n",
    "    print(\"Nodes: {}, MAE: {}\".format(nodes, mae))"
   ]
  }
 ],
 "metadata": {
  "kernelspec": {
   "display_name": "Python 3",
   "language": "python",
   "name": "python3"
  },
  "language_info": {
   "codemirror_mode": {
    "name": "ipython",
    "version": 3
   },
   "file_extension": ".py",
   "mimetype": "text/x-python",
   "name": "python",
   "nbconvert_exporter": "python",
   "pygments_lexer": "ipython3",
   "version": "3.7.10"
  },
  "papermill": {
   "default_parameters": {},
   "duration": 10.790459,
   "end_time": "2022-09-30T11:52:06.772447",
   "environment_variables": {},
   "exception": null,
   "input_path": "__notebook__.ipynb",
   "output_path": "__notebook__.ipynb",
   "parameters": {},
   "start_time": "2022-09-30T11:51:55.981988",
   "version": "2.3.3"
  }
 },
 "nbformat": 4,
 "nbformat_minor": 5
}
